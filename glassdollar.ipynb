{
 "cells": [
  {
   "cell_type": "code",
   "execution_count": 1,
   "id": "d50fe99e-4fb1-4994-88d0-ef78a21f5769",
   "metadata": {},
   "outputs": [],
   "source": [
    "import requests \n",
    "from bs4 import BeautifulSoup\n",
    "import pandas as pd"
   ]
  },
  {
   "cell_type": "code",
   "execution_count": 2,
   "id": "6caf3d33-d31f-4236-a973-8da9a8dfea9d",
   "metadata": {},
   "outputs": [],
   "source": [
    "url='https://gdpr-api.sharethis.com/v2/cmp-list.json'"
   ]
  },
  {
   "cell_type": "code",
   "execution_count": 3,
   "id": "9e593a6e-67df-4562-ad2b-2626fb19f1fb",
   "metadata": {},
   "outputs": [],
   "source": [
    "response = requests.get(url)"
   ]
  },
  {
   "cell_type": "code",
   "execution_count": 4,
   "id": "cb8cbd21-35e6-4128-bfb7-9cbf78725a4e",
   "metadata": {},
   "outputs": [
    {
     "data": {
      "text/plain": [
       "<Response [200]>"
      ]
     },
     "execution_count": 4,
     "metadata": {},
     "output_type": "execute_result"
    }
   ],
   "source": [
    "response"
   ]
  },
  {
   "cell_type": "code",
   "execution_count": 5,
   "id": "02279ee4-b7e2-493c-a4e3-898a930d2485",
   "metadata": {},
   "outputs": [],
   "source": [
    "html= response.text"
   ]
  },
  {
   "cell_type": "code",
   "execution_count": 6,
   "id": "aa8dd9d0-d996-47f2-87a1-0ffb395be0a9",
   "metadata": {},
   "outputs": [],
   "source": [
    "soup = BeautifulSoup(html, 'html.parser')"
   ]
  },
  {
   "cell_type": "code",
   "execution_count": 7,
   "id": "fca8ba43-8d77-4c6a-9030-549ac1fc798d",
   "metadata": {},
   "outputs": [],
   "source": [
    "# soup.title.text.strip()"
   ]
  },
  {
   "cell_type": "code",
   "execution_count": 8,
   "id": "a47ee82c-bf1f-4f4f-b889-c66417e62de4",
   "metadata": {},
   "outputs": [],
   "source": [
    "# soup"
   ]
  },
  {
   "cell_type": "code",
   "execution_count": 10,
   "id": "f30c3e41-f099-41d1-a9c6-f44c90a6b801",
   "metadata": {},
   "outputs": [],
   "source": [
    "json_response = response.json()"
   ]
  },
  {
   "cell_type": "code",
   "execution_count": 11,
   "id": "bff6b610-cbaf-4a0c-beb9-6331c1ceb43c",
   "metadata": {},
   "outputs": [],
   "source": [
    "companies = list(json_response['cmps'].values())"
   ]
  },
  {
   "cell_type": "code",
   "execution_count": 12,
   "id": "70ea8970-9d0b-47e6-a2b4-ca1daf9954aa",
   "metadata": {},
   "outputs": [],
   "source": [
    " # print(companies)"
   ]
  },
  {
   "cell_type": "code",
   "execution_count": 14,
   "id": "dde292e2-9a14-4232-a557-7fb2ab35dd25",
   "metadata": {},
   "outputs": [
    {
     "data": {
      "text/html": [
       "<div>\n",
       "<style scoped>\n",
       "    .dataframe tbody tr th:only-of-type {\n",
       "        vertical-align: middle;\n",
       "    }\n",
       "\n",
       "    .dataframe tbody tr th {\n",
       "        vertical-align: top;\n",
       "    }\n",
       "\n",
       "    .dataframe thead th {\n",
       "        text-align: right;\n",
       "    }\n",
       "</style>\n",
       "<table border=\"1\" class=\"dataframe\">\n",
       "  <thead>\n",
       "    <tr style=\"text-align: right;\">\n",
       "      <th></th>\n",
       "      <th>id</th>\n",
       "      <th>name</th>\n",
       "      <th>isCommercial</th>\n",
       "      <th>deletedDate</th>\n",
       "    </tr>\n",
       "  </thead>\n",
       "  <tbody>\n",
       "    <tr>\n",
       "      <th>0</th>\n",
       "      <td>2</td>\n",
       "      <td>AppConsent by SFBX®</td>\n",
       "      <td>True</td>\n",
       "      <td>NaN</td>\n",
       "    </tr>\n",
       "    <tr>\n",
       "      <th>1</th>\n",
       "      <td>3</td>\n",
       "      <td>LiveRamp</td>\n",
       "      <td>True</td>\n",
       "      <td>NaN</td>\n",
       "    </tr>\n",
       "    <tr>\n",
       "      <th>2</th>\n",
       "      <td>5</td>\n",
       "      <td>Usercentrics.com</td>\n",
       "      <td>True</td>\n",
       "      <td>NaN</td>\n",
       "    </tr>\n",
       "    <tr>\n",
       "      <th>3</th>\n",
       "      <td>6</td>\n",
       "      <td>Sourcepoint Technologies, Inc.</td>\n",
       "      <td>True</td>\n",
       "      <td>NaN</td>\n",
       "    </tr>\n",
       "    <tr>\n",
       "      <th>4</th>\n",
       "      <td>7</td>\n",
       "      <td>Didomi</td>\n",
       "      <td>True</td>\n",
       "      <td>NaN</td>\n",
       "    </tr>\n",
       "    <tr>\n",
       "      <th>...</th>\n",
       "      <td>...</td>\n",
       "      <td>...</td>\n",
       "      <td>...</td>\n",
       "      <td>...</td>\n",
       "    </tr>\n",
       "    <tr>\n",
       "      <th>167</th>\n",
       "      <td>411</td>\n",
       "      <td>DPG Media</td>\n",
       "      <td>False</td>\n",
       "      <td>NaN</td>\n",
       "    </tr>\n",
       "    <tr>\n",
       "      <th>168</th>\n",
       "      <td>412</td>\n",
       "      <td>Termly</td>\n",
       "      <td>True</td>\n",
       "      <td>NaN</td>\n",
       "    </tr>\n",
       "    <tr>\n",
       "      <th>169</th>\n",
       "      <td>413</td>\n",
       "      <td>Kayak Software Corporation</td>\n",
       "      <td>False</td>\n",
       "      <td>NaN</td>\n",
       "    </tr>\n",
       "    <tr>\n",
       "      <th>170</th>\n",
       "      <td>414</td>\n",
       "      <td>MBEX LTD</td>\n",
       "      <td>False</td>\n",
       "      <td>NaN</td>\n",
       "    </tr>\n",
       "    <tr>\n",
       "      <th>171</th>\n",
       "      <td>415</td>\n",
       "      <td>Match Group LLC</td>\n",
       "      <td>False</td>\n",
       "      <td>NaN</td>\n",
       "    </tr>\n",
       "  </tbody>\n",
       "</table>\n",
       "<p>172 rows × 4 columns</p>\n",
       "</div>"
      ],
      "text/plain": [
       "      id                            name  isCommercial deletedDate\n",
       "0      2            AppConsent by SFBX®           True         NaN\n",
       "1      3                        LiveRamp          True         NaN\n",
       "2      5                Usercentrics.com          True         NaN\n",
       "3      6  Sourcepoint Technologies, Inc.          True         NaN\n",
       "4      7                          Didomi          True         NaN\n",
       "..   ...                             ...           ...         ...\n",
       "167  411                       DPG Media         False         NaN\n",
       "168  412                          Termly          True         NaN\n",
       "169  413      Kayak Software Corporation         False         NaN\n",
       "170  414                        MBEX LTD         False         NaN\n",
       "171  415                 Match Group LLC         False         NaN\n",
       "\n",
       "[172 rows x 4 columns]"
      ]
     },
     "execution_count": 14,
     "metadata": {},
     "output_type": "execute_result"
    }
   ],
   "source": [
    "pd.DataFrame(companies)"
   ]
  },
  {
   "cell_type": "code",
   "execution_count": null,
   "id": "1a12b5fc-c879-4e46-91b8-3485a1ab942e",
   "metadata": {},
   "outputs": [],
   "source": []
  }
 ],
 "metadata": {
  "kernelspec": {
   "display_name": "Python 3 (ipykernel)",
   "language": "python",
   "name": "python3"
  },
  "language_info": {
   "codemirror_mode": {
    "name": "ipython",
    "version": 3
   },
   "file_extension": ".py",
   "mimetype": "text/x-python",
   "name": "python",
   "nbconvert_exporter": "python",
   "pygments_lexer": "ipython3",
   "version": "3.9.4"
  }
 },
 "nbformat": 4,
 "nbformat_minor": 5
}
